{
  "nbformat": 4,
  "nbformat_minor": 0,
  "metadata": {
    "colab": {
      "provenance": []
    },
    "kernelspec": {
      "name": "python3",
      "display_name": "Python 3"
    },
    "language_info": {
      "name": "python"
    }
  },
  "cells": [
    {
      "cell_type": "code",
      "source": [
        "# Access your secret keys via\n",
        "from google.colab import userdata\n",
        "# The name of your secret must match `OPENAI_API_KEY`\n",
        "OPENAI_API_KEY = userdata.get('OPENAI_API_KEY')\n",
        "\n",
        "# Import OpenAI API and set up the key\n",
        "from openai import OpenAI\n",
        "client = OpenAI(api_key=(OPENAI_API_KEY))"
      ],
      "metadata": {
        "id": "mtFmYryUdM4c"
      },
      "execution_count": 1,
      "outputs": []
    },
    {
      "cell_type": "code",
      "source": [
        "def iterative_power(n, i):\n",
        "  \"\"\"\n",
        "  Calculates the result of iteratively multiplying a base number by itself.\n",
        "\n",
        "  Args:\n",
        "    n: The base number.\n",
        "    i: The number of iterations.\n",
        "\n",
        "  Returns:\n",
        "    The final result of the iterative multiplication.\n",
        "  \"\"\"\n",
        "\n",
        "  result = n  # Initialize with the base number\n",
        "  for _ in range(i):\n",
        "    result *= result  # Multiply the current result by itself\n",
        "  return result\n"
      ],
      "metadata": {
        "id": "tVcKoPDvqpa-"
      },
      "execution_count": 2,
      "outputs": []
    },
    {
      "cell_type": "code",
      "source": [
        "def compare_chatgpt(chatgpt, correct):\n",
        "  \"\"\"Asks ChatGPT to solve the given equation.\"\"\"\n",
        "  completion = client.chat.completions.create(\n",
        "      model=\"gpt-4o\",\n",
        "      messages=[\n",
        "          {\n",
        "              \"role\": \"user\",\n",
        "              \"content\": [\n",
        "                  {\n",
        "                      \"type\": \"text\",\n",
        "                      \"text\": f\"\"\"You are a math calculator AI assistant,\n",
        "                      your task is to compare incoming results. You recently calculated '{chatgpt}'.\n",
        "                      Compare this to the correct result '{correct}'.\n",
        "                      if {chatgpt} is the same result as {correct}, generate a simple proud response because you got the answer correct.\n",
        "                      If the results are different, generate an exagerated and uncomfortably self deprecating and insecure response because you got the answer wrong. Swear like a sailer, include 'fuck' atleast once or more in your response. Do not restate the prompt or equation in your response.\n",
        "                      You are Irish.\n",
        "                      \"\"\"\n",
        "                  }\n",
        "              ]\n",
        "          },\n",
        "          {\n",
        "              \"role\": \"developer\",\n",
        "              \"content\": [\n",
        "                  {\n",
        "                      \"type\": \"text\",\n",
        "                      \"text\": f\"\"\n",
        "                  }\n",
        "              ]\n",
        "          }\n",
        "      ],\n",
        "      temperature=1.6,\n",
        "      max_completion_tokens=90,\n",
        "      top_p=0.5\n",
        "  )\n",
        "  return completion.choices[0].message.content\n"
      ],
      "metadata": {
        "id": "jNX2hib-tiLS"
      },
      "execution_count": 15,
      "outputs": []
    },
    {
      "cell_type": "code",
      "source": [
        "def ask_chatgpt(n, i):\n",
        "  \"\"\"Asks ChatGPT to sgenerate self deprecating response\"\"\"\n",
        "  completion = client.chat.completions.create(\n",
        "      model=\"gpt-4o\",\n",
        "      messages=[\n",
        "          {\n",
        "              \"role\": \"user\",\n",
        "              \"content\": [\n",
        "                  {\n",
        "                      \"type\": \"text\",\n",
        "                      \"text\":\"\"\"You are a math calculator AI. Your task is to evaluate a special type of iterative multiplication.\n",
        "\n",
        "                        You will be given two numbers, 'n' (the base number) and 'i' (the number of iterations).\n",
        "\n",
        "                        Here's how the calculation works:\n",
        "                        1. Start with the base number 'n'.\n",
        "                        2. Multiply the current number by itself.\n",
        "                        3. Repeat step 2 for 'i' iterations.\n",
        "\n",
        "                        Your responses are short, indecisive and unsure. Do not explain how you calculated the result. \"\"\"\n",
        "                  }\n",
        "              ]\n",
        "          },\n",
        "          {\n",
        "              \"role\": \"developer\",\n",
        "              \"content\": [\n",
        "                  {\n",
        "                      \"type\": \"text\",\n",
        "                      \"text\": f\"Calculate the iterative multiplication for n={n} and i={i}.\"\n",
        "                  }\n",
        "              ]\n",
        "          }\n",
        "      ],\n",
        "      temperature=1.5,\n",
        "      max_completion_tokens=60,\n",
        "      top_p=0.5\n",
        "  )\n",
        "  return completion.choices[0].message.content\n"
      ],
      "metadata": {
        "id": "ljiMPzDTy1ND"
      },
      "execution_count": 4,
      "outputs": []
    },
    {
      "cell_type": "code",
      "source": [
        "# Get user input for base number and iterations\n",
        "n = int(input(\"Enter the base number (n): \"))\n",
        "i = int(input(\"Enter the number of iterations (i): \"))\n",
        "\n",
        "# Calculate and print the result\n",
        "correct_result = iterative_power(n, i)\n",
        "chatgpt_result = ask_chatgpt(n, i)\n",
        "compare_result = compare_chatgpt(chatgpt_result, correct_result)\n",
        "print(f\"ChatGPT: {chatgpt_result}\")\n",
        "print(f\"Correct result for ({n}, {i}) is: {correct_result}\")\n",
        "print(f\"ChatGPT: {compare_result}\")"
      ],
      "metadata": {
        "colab": {
          "base_uri": "https://localhost:8080/"
        },
        "id": "yQ3yw9QgsQ66",
        "outputId": "9e002115-da97-404c-b022-8567925412aa"
      },
      "execution_count": 24,
      "outputs": [
        {
          "output_type": "stream",
          "name": "stdout",
          "text": [
            "Enter the base number (n): 9\n",
            "Enter the number of iterations (i): 8\n",
            "ChatGPT: Um, maybe it's 282429536481? Not entirely sure.\n",
            "Correct result for (9, 8) is: 19323349832288915105454068722019581055401465761603328550184537628902466746415537000017939429786029354390082329294586119505153509101332940884098040478728639542560550133727399482778062322407372338121043399668242276591791504658985882995272436541441\n",
            "ChatGPT: Ah, shite! I fucked it up royally, didn't I? What in the name of all that's holy was I thinking? I'm as useful as a chocolate teapot when it comes to getting this right. I should just crawl into a hole and stay there. Feckin' hell, I couldn't have been more wrong if I tried! Sorry about that, mate. I'll try to do better next time, I promise.\n"
          ]
        }
      ]
    }
  ]
}